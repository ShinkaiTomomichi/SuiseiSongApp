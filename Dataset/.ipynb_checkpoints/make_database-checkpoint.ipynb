{
 "cells": [
  {
   "cell_type": "code",
   "execution_count": 26,
   "metadata": {},
   "outputs": [],
   "source": [
    "# Pythonの基本ライブラリ\n",
    "import numpy as np\n",
    "import pandas as pd\n",
    "import matplotlib.pyplot as plt\n",
    "\n",
    "# ファイル操作\n",
    "import os\n",
    "import glob\n",
    "import json"
   ]
  },
  {
   "cell_type": "markdown",
   "metadata": {},
   "source": [
    "**必要なデータ**\n",
    "\n",
    "- 動画ID\n",
    "- 開始時刻\n",
    "- 終了時刻\n",
    "- 曲名\n",
    "- アーティスト\n",
    "- 歌枠 or 歌動画\n",
    "- コラボ or ソロ\n",
    "- 動画名（後からAPIで取得可能）\n",
    "- チャンネルID（コラボの時いる、後からAPIで取得可能）"
   ]
  },
  {
   "cell_type": "code",
   "execution_count": null,
   "metadata": {},
   "outputs": [],
   "source": [
    "# 過去のデータを読み込む\n",
    "pd.read_csv('suisei_song.csv')"
   ]
  },
  {
   "cell_type": "code",
   "execution_count": 39,
   "metadata": {},
   "outputs": [
    {
     "name": "stdout",
     "output_type": "stream",
     "text": [
      "動画ID\n"
     ]
    },
    {
     "name": "stdin",
     "output_type": "stream",
     "text": [
      " njGJGwx_eVM\n"
     ]
    }
   ],
   "source": [
    "data = []\n",
    "print('動画ID')\n",
    "video_id = input()"
   ]
  },
  {
   "cell_type": "code",
   "execution_count": 40,
   "metadata": {},
   "outputs": [],
   "source": [
    "def trans_time(start, end):\n",
    "    start_time_split = start.split(':')[::-1]\n",
    "    end_time_split = end.split(':')[::-1]\n",
    "    start_time, end_time = 0, 0\n",
    "    for i, time in enumerate(start_time_split):\n",
    "        start_time += int(time) * (60 ** i)\n",
    "    for i, time in enumerate(end_time_split):\n",
    "        end_time += int(time) * (60 ** i)   \n",
    "    return start_time, end_time"
   ]
  },
  {
   "cell_type": "code",
   "execution_count": 42,
   "metadata": {},
   "outputs": [
    {
     "name": "stdout",
     "output_type": "stream",
     "text": [
      "開始時刻\n"
     ]
    },
    {
     "name": "stdin",
     "output_type": "stream",
     "text": [
      " 11:00\n"
     ]
    },
    {
     "name": "stdout",
     "output_type": "stream",
     "text": [
      "終了時刻\n"
     ]
    },
    {
     "name": "stdin",
     "output_type": "stream",
     "text": [
      " 14:16\n"
     ]
    },
    {
     "name": "stdout",
     "output_type": "stream",
     "text": [
      "曲名\n"
     ]
    },
    {
     "name": "stdin",
     "output_type": "stream",
     "text": [
      " ベノム\n"
     ]
    },
    {
     "name": "stdout",
     "output_type": "stream",
     "text": [
      "アーティスト\n"
     ]
    },
    {
     "name": "stdin",
     "output_type": "stream",
     "text": [
      " かいりきベア\n"
     ]
    }
   ],
   "source": [
    "# Youtube APIを利用して動画情報を付与しても良いが後付けで良さそう\n",
    "print('開始時刻')\n",
    "start = input()\n",
    "print('終了時刻')\n",
    "end = input()\n",
    "print('曲名')\n",
    "title = input()\n",
    "print('アーティスト')\n",
    "artist = input()\n",
    "start_time, end_time = trans_time(start, end)\n",
    "\n",
    "database.append([video_id, title, artist, start_time, end_time])"
   ]
  },
  {
   "cell_type": "code",
   "execution_count": 50,
   "metadata": {},
   "outputs": [],
   "source": [
    "# csv形式で保存\n",
    "outputPath = 'suisei_song_stream.csv'\n",
    "df = pd.DataFrame(data=np.array(database), \n",
    "                  columns=['videoid', 'songtitle', 'artist', 'starttime', 'endtime'])\n",
    "df.to_csv(outputPath, index=False)"
   ]
  },
  {
   "cell_type": "code",
   "execution_count": 47,
   "metadata": {},
   "outputs": [
    {
     "data": {
      "text/html": [
       "<div>\n",
       "<style scoped>\n",
       "    .dataframe tbody tr th:only-of-type {\n",
       "        vertical-align: middle;\n",
       "    }\n",
       "\n",
       "    .dataframe tbody tr th {\n",
       "        vertical-align: top;\n",
       "    }\n",
       "\n",
       "    .dataframe thead th {\n",
       "        text-align: right;\n",
       "    }\n",
       "</style>\n",
       "<table border=\"1\" class=\"dataframe\">\n",
       "  <thead>\n",
       "    <tr style=\"text-align: right;\">\n",
       "      <th></th>\n",
       "      <th>videoid</th>\n",
       "      <th>songtitle</th>\n",
       "      <th>artist</th>\n",
       "      <th>starttime</th>\n",
       "      <th>endtime</th>\n",
       "    </tr>\n",
       "  </thead>\n",
       "  <tbody>\n",
       "    <tr>\n",
       "      <th>0</th>\n",
       "      <td>njGJGwx_eVM</td>\n",
       "      <td>Fallen Angel</td>\n",
       "      <td>Lisa &amp; Mitsunori Ikeda</td>\n",
       "      <td>232</td>\n",
       "      <td>486</td>\n",
       "    </tr>\n",
       "    <tr>\n",
       "      <th>1</th>\n",
       "      <td>njGJGwx_eVM</td>\n",
       "      <td>ベノム</td>\n",
       "      <td>かいりきベア</td>\n",
       "      <td>660</td>\n",
       "      <td>856</td>\n",
       "    </tr>\n",
       "  </tbody>\n",
       "</table>\n",
       "</div>"
      ],
      "text/plain": [
       "       videoid     songtitle                  artist starttime endtime\n",
       "0  njGJGwx_eVM  Fallen Angel  Lisa & Mitsunori Ikeda       232     486\n",
       "1  njGJGwx_eVM           ベノム                  かいりきベア       660     856"
      ]
     },
     "execution_count": 47,
     "metadata": {},
     "output_type": "execute_result"
    }
   ],
   "source": [
    "df.head()"
   ]
  },
  {
   "cell_type": "code",
   "execution_count": 49,
   "metadata": {},
   "outputs": [],
   "source": [
    "# Swiftで利用しやすいJSON形式に変換\n",
    "inputPath = 'suisei_song_stream.csv'\n",
    "df = pd.read_csv(inputPath)\n",
    "\n",
    "outputPath = 'suisei_song_stream.json'\n",
    "df.to_json(outputPath, orient='records')"
   ]
  }
 ],
 "metadata": {
  "kernelspec": {
   "display_name": "study-youtube",
   "language": "python",
   "name": "study-youtube"
  },
  "language_info": {
   "codemirror_mode": {
    "name": "ipython",
    "version": 3
   },
   "file_extension": ".py",
   "mimetype": "text/x-python",
   "name": "python",
   "nbconvert_exporter": "python",
   "pygments_lexer": "ipython3",
   "version": "3.7.10"
  }
 },
 "nbformat": 4,
 "nbformat_minor": 4
}
