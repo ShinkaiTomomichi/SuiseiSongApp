{
 "cells": [
  {
   "cell_type": "code",
   "execution_count": 52,
   "metadata": {},
   "outputs": [],
   "source": [
    "# Pythonの基本ライブラリ\n",
    "import numpy as np\n",
    "import pandas as pd\n",
    "import matplotlib.pyplot as plt\n",
    "\n",
    "# ファイル操作\n",
    "import os\n",
    "import glob\n",
    "import json"
   ]
  },
  {
   "cell_type": "markdown",
   "metadata": {},
   "source": [
    "**必要なデータ**\n",
    "\n",
    "- 動画ID\n",
    "- 開始時刻\n",
    "- 終了時刻\n",
    "- 曲名\n",
    "- アーティスト\n",
    "- 歌枠 or 歌動画 or ライブ\n",
    "- コラボ or ソロ\n",
    "- 動画名（後からAPIで取得可能）\n",
    "- チャンネルID（コラボの時いる、後からAPIで取得可能）"
   ]
  },
  {
   "cell_type": "code",
   "execution_count": 68,
   "metadata": {},
   "outputs": [],
   "source": [
    "# 過去のデータを読み込む\n",
    "df = pd.read_csv('suisei_song.csv')"
   ]
  },
  {
   "cell_type": "code",
   "execution_count": 69,
   "metadata": {},
   "outputs": [
    {
     "name": "stdout",
     "output_type": "stream",
     "text": [
      "動画ID\n"
     ]
    },
    {
     "name": "stdin",
     "output_type": "stream",
     "text": [
      " njGJGwx_eVM\n"
     ]
    },
    {
     "name": "stdout",
     "output_type": "stream",
     "text": [
      "stream or song or live\n"
     ]
    },
    {
     "name": "stdin",
     "output_type": "stream",
     "text": [
      " stream\n"
     ]
    },
    {
     "name": "stdout",
     "output_type": "stream",
     "text": [
      "solo or colab\n"
     ]
    },
    {
     "name": "stdin",
     "output_type": "stream",
     "text": [
      " solo\n"
     ]
    }
   ],
   "source": [
    "add_list = []\n",
    "print('動画ID')\n",
    "video_id = input()\n",
    "print('stream or song or live')\n",
    "video_type = input()\n",
    "print('solo or colab')\n",
    "colab = input()"
   ]
  },
  {
   "cell_type": "code",
   "execution_count": 40,
   "metadata": {},
   "outputs": [],
   "source": [
    "def trans_time(start, end):\n",
    "    start_time_split = start.split(':')[::-1]\n",
    "    end_time_split = end.split(':')[::-1]\n",
    "    start_time, end_time = 0, 0\n",
    "    for i, time in enumerate(start_time_split):\n",
    "        start_time += int(time) * (60 ** i)\n",
    "    for i, time in enumerate(end_time_split):\n",
    "        end_time += int(time) * (60 ** i)   \n",
    "    return start_time, end_time"
   ]
  },
  {
   "cell_type": "code",
   "execution_count": 71,
   "metadata": {},
   "outputs": [
    {
     "name": "stdout",
     "output_type": "stream",
     "text": [
      "開始時刻\n"
     ]
    },
    {
     "name": "stdin",
     "output_type": "stream",
     "text": [
      " 11:00\n"
     ]
    },
    {
     "name": "stdout",
     "output_type": "stream",
     "text": [
      "終了時刻\n"
     ]
    },
    {
     "name": "stdin",
     "output_type": "stream",
     "text": [
      " 14:16\n"
     ]
    },
    {
     "name": "stdout",
     "output_type": "stream",
     "text": [
      "曲名\n"
     ]
    },
    {
     "name": "stdin",
     "output_type": "stream",
     "text": [
      " ベノム\n"
     ]
    },
    {
     "name": "stdout",
     "output_type": "stream",
     "text": [
      "アーティスト\n"
     ]
    },
    {
     "name": "stdin",
     "output_type": "stream",
     "text": [
      " かいりきベア\n"
     ]
    }
   ],
   "source": [
    "# Youtube APIを利用して動画情報を付与しても良いが後付けで良さそう\n",
    "print('開始時刻')\n",
    "start = input()\n",
    "print('終了時刻')\n",
    "end = input()\n",
    "print('曲名')\n",
    "title = input()\n",
    "print('アーティスト')\n",
    "artist = input()\n",
    "start_time, end_time = trans_time(start, end)\n",
    "\n",
    "add_list.append([video_id, title, artist, start_time, end_time, video_type, colab])"
   ]
  },
  {
   "cell_type": "code",
   "execution_count": 72,
   "metadata": {},
   "outputs": [],
   "source": [
    "# 差分の追加\n",
    "add_df = pd.DataFrame(data=np.array(add_list),\n",
    "                      columns=['videoid', 'songtitle', 'artist', 'starttime', 'endtime', 'videotype', 'colab'])\n",
    "\n",
    "init = False # 初期化時のみTrue\n",
    "if init:\n",
    "    df = add_df\n",
    "else:\n",
    "    df = pd.concat([df, add_df])"
   ]
  },
  {
   "cell_type": "code",
   "execution_count": 73,
   "metadata": {},
   "outputs": [],
   "source": [
    "# csv形式で保存\n",
    "outputPath = 'suisei_song.csv'\n",
    "df.to_csv(outputPath, index=False)"
   ]
  },
  {
   "cell_type": "code",
   "execution_count": 74,
   "metadata": {},
   "outputs": [
    {
     "data": {
      "text/html": [
       "<div>\n",
       "<style scoped>\n",
       "    .dataframe tbody tr th:only-of-type {\n",
       "        vertical-align: middle;\n",
       "    }\n",
       "\n",
       "    .dataframe tbody tr th {\n",
       "        vertical-align: top;\n",
       "    }\n",
       "\n",
       "    .dataframe thead th {\n",
       "        text-align: right;\n",
       "    }\n",
       "</style>\n",
       "<table border=\"1\" class=\"dataframe\">\n",
       "  <thead>\n",
       "    <tr style=\"text-align: right;\">\n",
       "      <th></th>\n",
       "      <th>videoid</th>\n",
       "      <th>songtitle</th>\n",
       "      <th>artist</th>\n",
       "      <th>starttime</th>\n",
       "      <th>endtime</th>\n",
       "      <th>videotype</th>\n",
       "      <th>colab</th>\n",
       "    </tr>\n",
       "  </thead>\n",
       "  <tbody>\n",
       "    <tr>\n",
       "      <th>0</th>\n",
       "      <td>RDHf9Tmdvpk</td>\n",
       "      <td>In this unstable world</td>\n",
       "      <td>津島善子</td>\n",
       "      <td>179</td>\n",
       "      <td>416</td>\n",
       "      <td>live</td>\n",
       "      <td>solo</td>\n",
       "    </tr>\n",
       "    <tr>\n",
       "      <th>1</th>\n",
       "      <td>RDHf9Tmdvpk</td>\n",
       "      <td>U</td>\n",
       "      <td>millennium parade x Belle</td>\n",
       "      <td>473</td>\n",
       "      <td>654</td>\n",
       "      <td>live</td>\n",
       "      <td>solo</td>\n",
       "    </tr>\n",
       "    <tr>\n",
       "      <th>2</th>\n",
       "      <td>RDHf9Tmdvpk</td>\n",
       "      <td>覚醒</td>\n",
       "      <td>Superfly</td>\n",
       "      <td>937</td>\n",
       "      <td>1192</td>\n",
       "      <td>live</td>\n",
       "      <td>solo</td>\n",
       "    </tr>\n",
       "    <tr>\n",
       "      <th>3</th>\n",
       "      <td>RDHf9Tmdvpk</td>\n",
       "      <td>TEMPLATE</td>\n",
       "      <td>星街すいせい</td>\n",
       "      <td>3289</td>\n",
       "      <td>3485</td>\n",
       "      <td>live</td>\n",
       "      <td>solo</td>\n",
       "    </tr>\n",
       "    <tr>\n",
       "      <th>0</th>\n",
       "      <td>njGJGwx_eVM</td>\n",
       "      <td>Fallen Angel</td>\n",
       "      <td>Lisa &amp; Mitsunori Ikeda</td>\n",
       "      <td>292</td>\n",
       "      <td>486</td>\n",
       "      <td>stream</td>\n",
       "      <td>solo</td>\n",
       "    </tr>\n",
       "    <tr>\n",
       "      <th>1</th>\n",
       "      <td>njGJGwx_eVM</td>\n",
       "      <td>ベノム</td>\n",
       "      <td>かいりきベア</td>\n",
       "      <td>660</td>\n",
       "      <td>856</td>\n",
       "      <td>stream</td>\n",
       "      <td>solo</td>\n",
       "    </tr>\n",
       "    <tr>\n",
       "      <th>0</th>\n",
       "      <td>njGJGwx_eVM</td>\n",
       "      <td>Fallen Angel</td>\n",
       "      <td>Lisa &amp; Mitsunori Ikeda</td>\n",
       "      <td>292</td>\n",
       "      <td>486</td>\n",
       "      <td>stream</td>\n",
       "      <td>solo</td>\n",
       "    </tr>\n",
       "    <tr>\n",
       "      <th>1</th>\n",
       "      <td>njGJGwx_eVM</td>\n",
       "      <td>ベノム</td>\n",
       "      <td>かいりきベア</td>\n",
       "      <td>660</td>\n",
       "      <td>856</td>\n",
       "      <td>stream</td>\n",
       "      <td>solo</td>\n",
       "    </tr>\n",
       "  </tbody>\n",
       "</table>\n",
       "</div>"
      ],
      "text/plain": [
       "       videoid               songtitle                     artist starttime  \\\n",
       "0  RDHf9Tmdvpk  In this unstable world                       津島善子       179   \n",
       "1  RDHf9Tmdvpk                       U  millennium parade x Belle       473   \n",
       "2  RDHf9Tmdvpk                      覚醒                   Superfly       937   \n",
       "3  RDHf9Tmdvpk                TEMPLATE                     星街すいせい      3289   \n",
       "0  njGJGwx_eVM            Fallen Angel     Lisa & Mitsunori Ikeda       292   \n",
       "1  njGJGwx_eVM                     ベノム                     かいりきベア       660   \n",
       "0  njGJGwx_eVM            Fallen Angel     Lisa & Mitsunori Ikeda       292   \n",
       "1  njGJGwx_eVM                     ベノム                     かいりきベア       660   \n",
       "\n",
       "  endtime videotype colab  \n",
       "0     416      live  solo  \n",
       "1     654      live  solo  \n",
       "2    1192      live  solo  \n",
       "3    3485      live  solo  \n",
       "0     486    stream  solo  \n",
       "1     856    stream  solo  \n",
       "0     486    stream  solo  \n",
       "1     856    stream  solo  "
      ]
     },
     "execution_count": 74,
     "metadata": {},
     "output_type": "execute_result"
    }
   ],
   "source": [
    "df.head(10)"
   ]
  },
  {
   "cell_type": "code",
   "execution_count": 76,
   "metadata": {},
   "outputs": [],
   "source": [
    "# Swiftで利用しやすいJSON形式に変換\n",
    "inputPath = 'suisei_song.csv'\n",
    "df = pd.read_csv(inputPath)\n",
    "\n",
    "outputPath = 'suisei_song.json'\n",
    "df.to_json(outputPath, orient='records')"
   ]
  }
 ],
 "metadata": {
  "kernelspec": {
   "display_name": "study-youtube",
   "language": "python",
   "name": "study-youtube"
  },
  "language_info": {
   "codemirror_mode": {
    "name": "ipython",
    "version": 3
   },
   "file_extension": ".py",
   "mimetype": "text/x-python",
   "name": "python",
   "nbconvert_exporter": "python",
   "pygments_lexer": "ipython3",
   "version": "3.7.10"
  }
 },
 "nbformat": 4,
 "nbformat_minor": 4
}
